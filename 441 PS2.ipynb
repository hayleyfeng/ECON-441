{
 "cells": [
  {
   "cell_type": "markdown",
   "id": "07c34ec6",
   "metadata": {},
   "source": [
    "# 1) Pull in Data and Convert to Monthly"
   ]
  },
  {
   "cell_type": "code",
   "execution_count": 3,
   "id": "b48f7d57",
   "metadata": {},
   "outputs": [],
   "source": [
    "import yfinance as yf\n",
    "import pandas as pd\n",
    "import numpy as np\n",
    "import matplotlib.pyplot as plt"
   ]
  },
  {
   "cell_type": "code",
   "execution_count": 4,
   "id": "4fa973aa",
   "metadata": {
    "scrolled": true
   },
   "outputs": [
    {
     "name": "stderr",
     "output_type": "stream",
     "text": [
      "[*********************100%%**********************]  1 of 1 completed\n"
     ]
    }
   ],
   "source": [
    "apple_data = yf.download('AAPL')\n",
    "df = apple_data.resample(\"M\").last()[[\"Adj Close\"]]"
   ]
  },
  {
   "cell_type": "markdown",
   "id": "54bbfd02",
   "metadata": {},
   "source": [
    "# 2) Create columns\n",
    "  - Current stock price, and difference in stock price, whether it would went up or down over the next month, option premium"
   ]
  },
  {
   "cell_type": "code",
   "execution_count": 5,
   "id": "1f21f202",
   "metadata": {
    "scrolled": true
   },
   "outputs": [
    {
     "data": {
      "text/html": [
       "<div>\n",
       "<style scoped>\n",
       "    .dataframe tbody tr th:only-of-type {\n",
       "        vertical-align: middle;\n",
       "    }\n",
       "\n",
       "    .dataframe tbody tr th {\n",
       "        vertical-align: top;\n",
       "    }\n",
       "\n",
       "    .dataframe thead th {\n",
       "        text-align: right;\n",
       "    }\n",
       "</style>\n",
       "<table border=\"1\" class=\"dataframe\">\n",
       "  <thead>\n",
       "    <tr style=\"text-align: right;\">\n",
       "      <th></th>\n",
       "      <th>Adj Close</th>\n",
       "    </tr>\n",
       "    <tr>\n",
       "      <th>Date</th>\n",
       "      <th></th>\n",
       "    </tr>\n",
       "  </thead>\n",
       "  <tbody>\n",
       "    <tr>\n",
       "      <th>1980-12-31</th>\n",
       "      <td>0.117887</td>\n",
       "    </tr>\n",
       "    <tr>\n",
       "      <th>1981-01-31</th>\n",
       "      <td>0.097591</td>\n",
       "    </tr>\n",
       "    <tr>\n",
       "      <th>1981-02-28</th>\n",
       "      <td>0.091546</td>\n",
       "    </tr>\n",
       "    <tr>\n",
       "      <th>1981-03-31</th>\n",
       "      <td>0.084637</td>\n",
       "    </tr>\n",
       "    <tr>\n",
       "      <th>1981-04-30</th>\n",
       "      <td>0.098023</td>\n",
       "    </tr>\n",
       "  </tbody>\n",
       "</table>\n",
       "</div>"
      ],
      "text/plain": [
       "            Adj Close\n",
       "Date                 \n",
       "1980-12-31   0.117887\n",
       "1981-01-31   0.097591\n",
       "1981-02-28   0.091546\n",
       "1981-03-31   0.084637\n",
       "1981-04-30   0.098023"
      ]
     },
     "execution_count": 5,
     "metadata": {},
     "output_type": "execute_result"
    }
   ],
   "source": [
    "df.head()"
   ]
  },
  {
   "cell_type": "code",
   "execution_count": 6,
   "id": "c3df70eb",
   "metadata": {},
   "outputs": [],
   "source": [
    "df['Diff'] = df['Adj Close'].diff().shift(-1)\n",
    "df['Target'] = np.sign(df['Diff'])\n",
    "df['Premium'] = 0.08*df['Adj Close']"
   ]
  },
  {
   "cell_type": "markdown",
   "id": "c9987e25",
   "metadata": {},
   "source": [
    "# 3) Pull in X data, normalize and build a LogReg on column 2"
   ]
  },
  {
   "cell_type": "code",
   "execution_count": 7,
   "id": "132b4471",
   "metadata": {},
   "outputs": [],
   "source": [
    "import numpy as np\n",
    "import pandas as pd\n",
    "from sklearn.model_selection import train_test_split\n",
    "from sklearn.linear_model import LogisticRegression\n",
    "from sklearn import metrics"
   ]
  },
  {
   "cell_type": "code",
   "execution_count": 8,
   "id": "b21f3c33",
   "metadata": {},
   "outputs": [],
   "source": [
    "X = pd.read_csv(\"Xdata.csv\", index_col=\"Date\", parse_dates=[\"Date\"])"
   ]
  },
  {
   "cell_type": "code",
   "execution_count": 9,
   "id": "7b38602e",
   "metadata": {},
   "outputs": [],
   "source": [
    "y = df.loc[:\"2023-09-30\",\"Target\"].copy()"
   ]
  },
  {
   "cell_type": "code",
   "execution_count": 10,
   "id": "f4a4748b",
   "metadata": {},
   "outputs": [],
   "source": [
    "df = df.loc[:\"2023-09-30\",:].copy()"
   ]
  },
  {
   "cell_type": "code",
   "execution_count": 11,
   "id": "f3bc75a2",
   "metadata": {},
   "outputs": [
    {
     "data": {
      "text/html": [
       "<style>#sk-container-id-1 {color: black;}#sk-container-id-1 pre{padding: 0;}#sk-container-id-1 div.sk-toggleable {background-color: white;}#sk-container-id-1 label.sk-toggleable__label {cursor: pointer;display: block;width: 100%;margin-bottom: 0;padding: 0.3em;box-sizing: border-box;text-align: center;}#sk-container-id-1 label.sk-toggleable__label-arrow:before {content: \"▸\";float: left;margin-right: 0.25em;color: #696969;}#sk-container-id-1 label.sk-toggleable__label-arrow:hover:before {color: black;}#sk-container-id-1 div.sk-estimator:hover label.sk-toggleable__label-arrow:before {color: black;}#sk-container-id-1 div.sk-toggleable__content {max-height: 0;max-width: 0;overflow: hidden;text-align: left;background-color: #f0f8ff;}#sk-container-id-1 div.sk-toggleable__content pre {margin: 0.2em;color: black;border-radius: 0.25em;background-color: #f0f8ff;}#sk-container-id-1 input.sk-toggleable__control:checked~div.sk-toggleable__content {max-height: 200px;max-width: 100%;overflow: auto;}#sk-container-id-1 input.sk-toggleable__control:checked~label.sk-toggleable__label-arrow:before {content: \"▾\";}#sk-container-id-1 div.sk-estimator input.sk-toggleable__control:checked~label.sk-toggleable__label {background-color: #d4ebff;}#sk-container-id-1 div.sk-label input.sk-toggleable__control:checked~label.sk-toggleable__label {background-color: #d4ebff;}#sk-container-id-1 input.sk-hidden--visually {border: 0;clip: rect(1px 1px 1px 1px);clip: rect(1px, 1px, 1px, 1px);height: 1px;margin: -1px;overflow: hidden;padding: 0;position: absolute;width: 1px;}#sk-container-id-1 div.sk-estimator {font-family: monospace;background-color: #f0f8ff;border: 1px dotted black;border-radius: 0.25em;box-sizing: border-box;margin-bottom: 0.5em;}#sk-container-id-1 div.sk-estimator:hover {background-color: #d4ebff;}#sk-container-id-1 div.sk-parallel-item::after {content: \"\";width: 100%;border-bottom: 1px solid gray;flex-grow: 1;}#sk-container-id-1 div.sk-label:hover label.sk-toggleable__label {background-color: #d4ebff;}#sk-container-id-1 div.sk-serial::before {content: \"\";position: absolute;border-left: 1px solid gray;box-sizing: border-box;top: 0;bottom: 0;left: 50%;z-index: 0;}#sk-container-id-1 div.sk-serial {display: flex;flex-direction: column;align-items: center;background-color: white;padding-right: 0.2em;padding-left: 0.2em;position: relative;}#sk-container-id-1 div.sk-item {position: relative;z-index: 1;}#sk-container-id-1 div.sk-parallel {display: flex;align-items: stretch;justify-content: center;background-color: white;position: relative;}#sk-container-id-1 div.sk-item::before, #sk-container-id-1 div.sk-parallel-item::before {content: \"\";position: absolute;border-left: 1px solid gray;box-sizing: border-box;top: 0;bottom: 0;left: 50%;z-index: -1;}#sk-container-id-1 div.sk-parallel-item {display: flex;flex-direction: column;z-index: 1;position: relative;background-color: white;}#sk-container-id-1 div.sk-parallel-item:first-child::after {align-self: flex-end;width: 50%;}#sk-container-id-1 div.sk-parallel-item:last-child::after {align-self: flex-start;width: 50%;}#sk-container-id-1 div.sk-parallel-item:only-child::after {width: 0;}#sk-container-id-1 div.sk-dashed-wrapped {border: 1px dashed gray;margin: 0 0.4em 0.5em 0.4em;box-sizing: border-box;padding-bottom: 0.4em;background-color: white;}#sk-container-id-1 div.sk-label label {font-family: monospace;font-weight: bold;display: inline-block;line-height: 1.2em;}#sk-container-id-1 div.sk-label-container {text-align: center;}#sk-container-id-1 div.sk-container {/* jupyter's `normalize.less` sets `[hidden] { display: none; }` but bootstrap.min.css set `[hidden] { display: none !important; }` so we also need the `!important` here to be able to override the default hidden behavior on the sphinx rendered scikit-learn.org. See: https://github.com/scikit-learn/scikit-learn/issues/21755 */display: inline-block !important;position: relative;}#sk-container-id-1 div.sk-text-repr-fallback {display: none;}</style><div id=\"sk-container-id-1\" class=\"sk-top-container\"><div class=\"sk-text-repr-fallback\"><pre>LogisticRegression()</pre><b>In a Jupyter environment, please rerun this cell to show the HTML representation or trust the notebook. <br />On GitHub, the HTML representation is unable to render, please try loading this page with nbviewer.org.</b></div><div class=\"sk-container\" hidden><div class=\"sk-item\"><div class=\"sk-estimator sk-toggleable\"><input class=\"sk-toggleable__control sk-hidden--visually\" id=\"sk-estimator-id-1\" type=\"checkbox\" checked><label for=\"sk-estimator-id-1\" class=\"sk-toggleable__label sk-toggleable__label-arrow\">LogisticRegression</label><div class=\"sk-toggleable__content\"><pre>LogisticRegression()</pre></div></div></div></div></div>"
      ],
      "text/plain": [
       "LogisticRegression()"
      ]
     },
     "execution_count": 11,
     "metadata": {},
     "output_type": "execute_result"
    }
   ],
   "source": [
    "logreg = LogisticRegression()\n",
    "logreg.fit(X,y)"
   ]
  },
  {
   "cell_type": "markdown",
   "id": "2c2c792d",
   "metadata": {},
   "source": [
    "# 4) Add columns, prediction and profits"
   ]
  },
  {
   "cell_type": "code",
   "execution_count": 12,
   "id": "8009466a",
   "metadata": {},
   "outputs": [],
   "source": [
    "y_pred = logreg.predict(X)"
   ]
  },
  {
   "cell_type": "code",
   "execution_count": 13,
   "id": "4aae021b",
   "metadata": {},
   "outputs": [],
   "source": [
    "df['Predictions'] = y_pred"
   ]
  },
  {
   "cell_type": "code",
   "execution_count": 14,
   "id": "1d41211f",
   "metadata": {},
   "outputs": [],
   "source": [
    "df['Profits'] = 0"
   ]
  },
  {
   "cell_type": "code",
   "execution_count": 15,
   "id": "ab9f899a",
   "metadata": {},
   "outputs": [
    {
     "name": "stderr",
     "output_type": "stream",
     "text": [
      "/tmp/ipykernel_266/1259187282.py:1: FutureWarning: Setting an item of incompatible dtype is deprecated and will raise in a future error of pandas. Value '[6.77095115e-03 7.84186244e-03 4.21454877e-03 5.14728665e-03\n",
      " 3.52368116e-03 3.73094141e-03 4.97456849e-03 5.04365563e-03\n",
      " 7.01275885e-03 8.25644612e-03 1.12964630e-02 1.16764343e-02\n",
      " 1.39564288e-02 9.63825047e-03 5.63095748e-03 6.73641026e-03\n",
      " 6.84003949e-03 6.84003949e-03 7.04729855e-03 6.84003949e-03\n",
      " 4.80185091e-03 4.14546520e-03 4.35278714e-03 5.14728665e-03\n",
      " 5.56187153e-03 6.08002186e-03 6.39097750e-03 6.90912664e-03\n",
      " 7.80731916e-03 8.36007774e-03 8.63642514e-03 9.25827146e-03\n",
      " 9.56916332e-03 1.10545897e-02 1.11928272e-02 1.53382897e-02\n",
      " 1.78255463e-02 2.18661308e-02 2.24196649e-02 2.28348732e-02\n",
      " 2.99315524e-02 1.83313918e-02 2.30531311e-02 2.22636890e-02\n",
      " 2.28202534e-02 2.31442904e-02 2.22799635e-02 2.10782790e-02\n",
      " 2.00128174e-02 2.19087696e-02 2.23790503e-02 2.51126790e-02\n",
      " 1.92344832e-02 1.92964506e-02 2.23470569e-02 2.34761500e-02\n",
      " 1.65543354e-02 1.75533020e-02 2.10484409e-02 2.46281290e-02\n",
      " 3.17874575e-02 3.28587580e-02 2.66131687e-02 2.85476017e-02\n",
      " 2.93389058e-02 3.25907326e-02 3.74323845e-02 3.37376666e-02\n",
      " 2.62588191e-02 3.05504107e-02 3.35311627e-02 2.99516249e-02\n",
      " 1.37496567e-02 1.80878401e-02 1.72673178e-02 1.93335044e-02\n",
      " 1.57620776e-02 2.00371742e-02 2.01065707e-02 2.22997499e-02\n",
      " 2.33473849e-02 2.11604762e-02 2.29613805e-02 2.50190544e-02\n",
      " 2.19184303e-02 1.47587156e-02 1.27152014e-02 1.33207107e-02\n",
      " 1.34342313e-02 1.39261591e-02 9.83911753e-03 8.62815797e-03\n",
      " 1.05959940e-02 1.03121960e-02 7.94703126e-03 1.10879183e-02\n",
      " 1.43046319e-02 1.61210358e-02 1.73698378e-02 1.88835907e-02\n",
      " 1.93376791e-02 2.47870350e-02 2.10784721e-02 2.17596650e-02\n",
      " 2.66791892e-02 2.80415154e-02 3.37179947e-02 3.83347821e-02\n",
      " 4.85145283e-02 5.92618942e-02 6.22515106e-02 6.28191090e-02\n",
      " 6.94038200e-02 5.08608055e-02 6.15324593e-02 1.80132008e-02\n",
      " 2.21002340e-02 2.67261243e-02 2.41588759e-02 1.87821448e-02\n",
      " 2.57936740e-02 2.65202379e-02 2.62780666e-02 2.86637187e-02\n",
      " 1.75591135e-02 1.73532224e-02 1.73895717e-02 1.71231306e-02\n",
      " 2.17369485e-02 2.30811000e-02 2.55272937e-02 2.50913215e-02\n",
      " 2.53214216e-02 2.58784389e-02 2.73194981e-02 2.89664435e-02\n",
      " 3.12188220e-02 3.39798284e-02 3.91628075e-02 4.17663956e-02\n",
      " 4.69250917e-02 6.34548521e-02 7.79865408e-02 9.31236744e-02\n",
      " 8.73352432e-02 8.91517067e-02 1.03295803e-01 1.13564873e-01\n",
      " 1.29840336e-01 1.39479656e-01 1.64256115e-01 1.74113388e-01\n",
      " 1.51904173e-01 1.38704624e-01 1.64328747e-01 1.86441078e-01\n",
      " 1.96371021e-01 2.05477562e-01 2.04920578e-01 2.25022602e-01\n",
      " 2.41709843e-01 2.93515205e-01 3.19115086e-01 3.35390587e-01\n",
      " 3.71695366e-01 4.41326256e-01 3.02791119e-01 3.47548752e-01\n",
      " 4.21296806e-01 3.84967766e-01 2.06712704e-01 2.16303654e-01\n",
      " 2.54594574e-01 3.04753036e-01 3.44957123e-01 3.95721245e-01\n",
      " 4.07394867e-01 4.48906975e-01 4.56536179e-01 4.84170418e-01\n",
      " 4.65158234e-01 4.95577698e-01 5.69156380e-01 6.09191132e-01\n",
      " 5.88774490e-01 6.87225876e-01 7.28956375e-01 7.53587189e-01\n",
      " 7.81221695e-01 8.21813126e-01 8.44071121e-01 8.12973175e-01\n",
      " 9.23535080e-01 9.25666351e-01 9.80886688e-01 1.10556793e+00\n",
      " 1.31375793e+00 1.39922836e+00 1.41441437e+00 1.47922562e+00\n",
      " 1.61809021e+00 1.08482452e+00 1.08792145e+00 1.08821609e+00\n",
      " 9.80998840e-01 1.11954048e+00 1.18724739e+00 1.30167679e+00\n",
      " 1.39286255e+00 1.25391937e+00 1.32603363e+00 1.35249176e+00\n",
      " 1.48692429e+00 1.60395935e+00 1.64832809e+00 1.69568680e+00\n",
      " 1.79592209e+00 1.92515747e+00 1.97611404e+00 2.09749481e+00\n",
      " 2.23643982e+00 2.24938110e+00 1.99976700e+00 1.77007126e+00\n",
      " 1.71606613e+00 1.76077240e+00 1.91935242e+00 1.96474808e+00\n",
      " 2.09344833e+00 2.05710526e+00 2.15575409e+00 2.25868423e+00\n",
      " 2.56084564e+00 2.68534546e+00 2.70337402e+00 2.79178558e+00\n",
      " 2.90431976e+00 3.18548126e+00 3.16648376e+00 3.13818756e+00\n",
      " 3.52868164e+00 3.62742462e+00 3.02801086e+00 3.19501831e+00\n",
      " 3.33808014e+00 3.66195984e+00 3.38809235e+00 3.83030334e+00\n",
      " 4.05504974e+00 4.35091248e+00 4.83249146e+00 5.20727051e+00\n",
      " 5.72166443e+00 4.96650818e+00 5.73817322e+00 6.22645752e+00\n",
      " 7.14415222e+00 8.32387878e+00 8.54292419e+00 9.35871704e+00\n",
      " 9.54669250e+00 9.61676086e+00 9.82709961e+00 1.08010547e+01\n",
      " 1.15029333e+01 1.11758105e+01 1.18313550e+01 1.30746130e+01\n",
      " 1.30770154e+01 1.08437280e+01 1.09763379e+01 1.03366223e+01\n",
      " 1.14790369e+01 1.17451563e+01 1.35195569e+01 1.41422449e+01\n",
      " 1.54762854e+01]' has dtype incompatible with int64, please explicitly cast to a compatible dtype first.\n",
      "  df.loc[(df[\"Target\"] == 1) & (df[\"Predictions\"] == 1), \"Profits\"] = df[\"Premium\"]\n"
     ]
    }
   ],
   "source": [
    "df.loc[(df[\"Target\"] == 1) & (df[\"Predictions\"] == 1), \"Profits\"] = df[\"Premium\"]"
   ]
  },
  {
   "cell_type": "code",
   "execution_count": 17,
   "id": "c422b0bf",
   "metadata": {},
   "outputs": [],
   "source": [
    "df.loc[(df[\"Target\"] == -1) & (df[\"Predictions\"] == 1), \"Profits\"] = (100*df['Diff']) + df[\"Premium\"]"
   ]
  },
  {
   "cell_type": "markdown",
   "id": "e379d80c",
   "metadata": {},
   "source": [
    "# 5) Plot profits over time"
   ]
  },
  {
   "cell_type": "code",
   "execution_count": 18,
   "id": "bc16f4dc",
   "metadata": {},
   "outputs": [
    {
     "data": {
      "text/plain": [
       "[]"
      ]
     },
     "execution_count": 18,
     "metadata": {},
     "output_type": "execute_result"
    },
    {
     "data": {
      "image/png": "[encoded data removed]",
      "text/plain": [
       "<Figure size 640x480 with 1 Axes>"
      ]
     },
     "metadata": {},
     "output_type": "display_data"
    }
   ],
   "source": [
    "plt.plot(np.cumsum(df[\"Profits\"]))\n",
    "plt.grid()\n",
    "plt.xlabel(\"Profits over Time\")\n",
    "plt.plot()"
   ]
  },
  {
   "cell_type": "markdown",
   "id": "5c970b3f",
   "metadata": {},
   "source": [
    "# 6) Create a loop that stores total profits over time"
   ]
  },
  {
   "cell_type": "markdown",
   "id": "30f8738c",
   "metadata": {},
   "source": [
    "# 7) What is the optimal threshold and plot the total profits for this model."
   ]
  }
 ],
 "metadata": {
  "kernelspec": {
   "display_name": "Python 3 (ipykernel)",
   "language": "python",
   "name": "python3"
  },
  "language_info": {
   "codemirror_mode": {
    "name": "ipython",
    "version": 3
   },
   "file_extension": ".py",
   "mimetype": "text/x-python",
   "name": "python",
   "nbconvert_exporter": "python",
   "pygments_lexer": "ipython3",
   "version": "3.11.7"
  }
 },
 "nbformat": 4,
 "nbformat_minor": 5
}
